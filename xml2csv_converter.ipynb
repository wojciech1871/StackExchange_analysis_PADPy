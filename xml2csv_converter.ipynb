{
 "cells": [
  {
   "cell_type": "markdown",
   "metadata": {},
   "source": [
    "### Konwersja xml do csv\n",
    "Dział sensownie poprzez przetwarzanie potokowe poszczególnych plików xml. Oszczędza pamięć RAM i działa w rozsądnym czasie."
   ]
  },
  {
   "cell_type": "code",
   "execution_count": null,
   "metadata": {},
   "outputs": [],
   "source": [
    "# import danych\n",
    "\n",
    "import pandas as pd\n",
    "import numpy as np\n",
    "import os\n",
    "import xml.etree.ElementTree as ET\n",
    "import csv\n",
    "\n",
    "rootdir = os.path.join(os.getcwd(), \"files\") # wszystkie xml'e zgrupowane w folderach w folderze files\n",
    "\n",
    "badges_fields = [\"Id\", \"UserId\", \"Name\", \"Date\", \"Class\", \"TagBased\"]\n",
    "users_fields = [\"Id\", \"Reputation\", \"CreationDate\", \"DisplayName\", \"LastAccessDate\", \"WebsiteUrl\",\"Location\",\"AboutMe\",\"Views\",\"UpVotes\",\"DownVotes\",\"AccountId\"]\n",
    "posts_fields = [\"Id\", \"PostTypeId\", \"AcceptedAnswerId\",\"CreationDate\", \"Score\", \"ViewCount\", \"Body\",\"OwnerUserId\",\"LastEditorUserId\",\"LastEditDate\",\"LastActivityDate\",\"Title\",\"Tags\",\"AnswerCount\",\"CommentCount\",\"FavouriteCount\",\"ParentId\"]\n",
    "comments_fields = [\"Id\", \"PostId\", \"Score\", \"Text\", \"CreationDate\", \"UserId\"]\n",
    "votes_fields = [\"Id\", \"PostId\", \"VoteTypeId\", \"CreationDate\"]\n",
    "postHistory_fields = [\"Id\", \"PostHistoryTypeId\", \"PostId\", \"RevisionGUID\", \"CreationDate\", \"UserId\",\"Text\"]\n",
    "tags_fields = [\"Id\", \"TagName\", \"Count\", \"ExcerptPostId\", \"WikiPostId\"]\n",
    "postLinks_fields = [\"Id\", \"CreationDate\", \"PostId\", \"RelatedPostId\", \"LinkTypeId\"]"
   ]
  },
  {
   "cell_type": "code",
   "execution_count": null,
   "metadata": {
    "collapsed": false,
    "scrolled": false
   },
   "outputs": [],
   "source": [
    "for subdir, dirs, files in os.walk(rootdir):\n",
    "    for directory in dirs:\n",
    "        if directory != None and not os.path.exists(directory):\n",
    "            os.mkdir(directory)\n",
    "    for file in files:\n",
    "        filename, _ = os.path.splitext(file)\n",
    "        folder = os.path.basename(subdir)\n",
    "        \n",
    "        csv_fname = folder+\"_\"+filename+\".csv\"\n",
    "        print(csv_fname+\" is starting created\")\n",
    "        \n",
    "        with open(os.path.join(folder, csv_fname), mode=\"w\", encoding=\"utf-8\") as csvfile:\n",
    "            \n",
    "            if filename == \"Posts\":\n",
    "                fieldnames=posts_fields\n",
    "                writer = csv.DictWriter(csvfile, fieldnames=posts_fields)\n",
    "            if filename == \"Badges\":\n",
    "                fieldnames=badges_fields\n",
    "                writer = csv.DictWriter(csvfile, fieldnames=badges_fields)\n",
    "            if filename == \"Users\":\n",
    "                fieldnames=users_fields\n",
    "                writer = csv.DictWriter(csvfile, fieldnames=users_fields)\n",
    "            if filename == \"Tags\":\n",
    "                fieldnames=tags_fields\n",
    "                writer = csv.DictWriter(csvfile, fieldnames=tags_fields)\n",
    "            if filename == \"Votes\":\n",
    "                fieldnames=votes_fields\n",
    "                writer = csv.DictWriter(csvfile, fieldnames=votes_fields)\n",
    "            if filename == \"Comments\":\n",
    "                fieldnames=comments_fields\n",
    "                writer = csv.DictWriter(csvfile, fieldnames=comments_fields)\n",
    "            if filename == \"PostHistory\":\n",
    "                fieldnames=postHistory_fields\n",
    "                writer = csv.DictWriter(csvfile, fieldnames=postHistory_fields)    \n",
    "            if filename == \"PostLinks\":\n",
    "                fieldnames=postLinks_fields\n",
    "                writer = csv.DictWriter(csvfile, fieldnames=postLinks_fields)    \n",
    "            writer.writeheader()\n",
    "            \n",
    "            xml = os.path.join(subdir, file)\n",
    "            context = ET.iterparse(xml)\n",
    "            \n",
    "            filled_row = {}\n",
    "            context = iter(context)\n",
    "            i=0\n",
    "            k=0\n",
    "            for event, elem in context:\n",
    "                if elem.tag == 'row':\n",
    "                    for head in fieldnames:\n",
    "                        try:\n",
    "                            filled_row.update({head : elem.attrib[head]})\n",
    "                        except:\n",
    "                            filled_row.update({head : np.nan})        \n",
    "                    writer.writerow(filled_row)\n",
    "                    i=i+1;\n",
    "                    if i>100000:\n",
    "                        print(k, end=\" \")\n",
    "                        k=k+1\n",
    "                        i=0\n",
    "                elem.clear()\n",
    "                del elem\n",
    "        print(csv_fname+\" created\")\n",
    "        "
   ]
  }
 ],
 "metadata": {
  "kernelspec": {
   "display_name": "Python 3",
   "language": "python",
   "name": "python3"
  },
  "language_info": {
   "codemirror_mode": {
    "name": "ipython",
    "version": 3
   },
   "file_extension": ".py",
   "mimetype": "text/x-python",
   "name": "python",
   "nbconvert_exporter": "python",
   "pygments_lexer": "ipython3",
   "version": "3.7.2"
  }
 },
 "nbformat": 4,
 "nbformat_minor": 2
}
